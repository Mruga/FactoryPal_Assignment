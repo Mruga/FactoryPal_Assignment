{
 "cells": [
  {
   "cell_type": "code",
   "execution_count": null,
   "metadata": {
    "id": "Xg-JMDIv79IX"
   },
   "outputs": [],
   "source": [
    "import numpy as np\n",
    "import sklearn.datasets\n",
    "import sklearn.linear_model\n",
    "import sklearn.metrics"
   ]
  },
  {
   "cell_type": "code",
   "execution_count": null,
   "metadata": {
    "id": "68T6rhEf8Hlj"
   },
   "outputs": [],
   "source": [
    "np.random.seed(42)  # do not change for reproducibility"
   ]
  },
  {
   "cell_type": "markdown",
   "metadata": {
    "id": "iz5eO1879xIe"
   },
   "source": [
    "In this test we use the [Covertype Data Set](http://archive.ics.uci.edu/ml/datasets/Covertype), a dataset describing cartographic \n",
    "features of areas of land in the USA and also its forest type according to the US Forest Service. \n",
    "There are seven classes (1-7), 581012 samples and 54 features.\n",
    "For this test, we're only interested in cover type 3.\n",
    "\n",
    "\n"
   ]
  },
  {
   "cell_type": "code",
   "execution_count": null,
   "metadata": {
    "id": "cG8T67QL92T9"
   },
   "outputs": [],
   "source": [
    "dataset = sklearn.datasets.fetch_covtype()"
   ]
  },
  {
   "cell_type": "code",
   "execution_count": null,
   "metadata": {
    "id": "gCScXzzy95ui"
   },
   "outputs": [],
   "source": [
    "# only use a random subset for speed - pretend the rest of the data doesn't exist\n",
    "random_sample = np.random.choice(len(dataset.data), len(dataset.data) // 10)\n",
    "\n",
    "COVER_TYPE = 3\n",
    "features = dataset.data[random_sample, :]\n",
    "target = dataset.target[random_sample] == COVER_TYPE"
   ]
  },
  {
   "cell_type": "markdown",
   "metadata": {
    "id": "Zmlgj_j49-jy"
   },
   "source": [
    "A junior colleague tells you that they're getting 96% accuracy using logistic regression. You review their work and see the following:"
   ]
  },
  {
   "cell_type": "code",
   "execution_count": null,
   "metadata": {
    "id": "N3VlK7hu-B0u"
   },
   "outputs": [],
   "source": [
    "classifier = sklearn.linear_model.LogisticRegression(solver='liblinear') # do not change this\n"
   ]
  },
  {
   "cell_type": "code",
   "execution_count": null,
   "metadata": {
    "id": "esZ06BmLfQL0"
   },
   "outputs": [],
   "source": [
    "classifier.fit(features,  target)\n",
    "training_predictions = classifier.predict(features)\n",
    "accuracy = sklearn.metrics.accuracy_score(training_predictions, target)"
   ]
  },
  {
   "cell_type": "code",
   "execution_count": null,
   "metadata": {
    "id": "VFTSg5We-CLq"
   },
   "outputs": [],
   "source": [
    "print(f'Accuracy: {accuracy:.3f}')"
   ]
  },
  {
   "cell_type": "markdown",
   "metadata": {
    "id": "xGb4NGs9-Giy"
   },
   "source": [
    "**Question 1**\n",
    "\n",
    "Comment on what was done above. Evaluate the accuracy more thoroughly. Do not modify the parameters of the model (the cell marked with the comment). Use the classifier object."
   ]
  },
  {
   "cell_type": "code",
   "execution_count": null,
   "metadata": {
    "id": "NT_g-LWp-IbR"
   },
   "outputs": [],
   "source": [
    "### Write your code and explanation here. INCLUDE ALL ANALYSIS ETC. YOU USE"
   ]
  },
  {
   "cell_type": "markdown",
   "metadata": {
    "id": "d5mfuCfx-UKx"
   },
   "source": [
    "**Question 2**\n",
    "\n",
    "Should you get more training data?"
   ]
  },
  {
   "cell_type": "code",
   "execution_count": null,
   "metadata": {
    "id": "rl6M5-5H-VJ2"
   },
   "outputs": [],
   "source": [
    "### Write your code and explanation here."
   ]
  },
  {
   "cell_type": "markdown",
   "metadata": {
    "id": "JuuuRgp_-Znz"
   },
   "source": [
    "**Question 3**\n",
    "\n",
    "How would you decide which features to include in the deployed model?"
   ]
  },
  {
   "cell_type": "code",
   "execution_count": null,
   "metadata": {
    "id": "mEeujeNN-cWG"
   },
   "outputs": [],
   "source": [
    "### Write your code and explanation here."
   ]
  },
  {
   "cell_type": "code",
   "execution_count": null,
   "metadata": {
    "id": "Saf3YtSl-ddO"
   },
   "outputs": [],
   "source": []
  }
 ],
 "metadata": {
  "colab": {
   "collapsed_sections": [],
   "name": "Copy of Oviva_DataScience_ Edith.ipynb",
   "provenance": [
    {
     "file_id": "1rzeYNjvXlg23BeitqhWtFf8bfwpt5qwr",
     "timestamp": 1613509182411
    },
    {
     "file_id": "1nXzhjNwXnt27P0nO8WgQLsPuB_EvjEAv",
     "timestamp": 1577181393336
    }
   ]
  },
  "kernelspec": {
   "display_name": "Python 3",
   "language": "python",
   "name": "python3"
  },
  "language_info": {
   "codemirror_mode": {
    "name": "ipython",
    "version": 3
   },
   "file_extension": ".py",
   "mimetype": "text/x-python",
   "name": "python",
   "nbconvert_exporter": "python",
   "pygments_lexer": "ipython3",
   "version": "3.8.8"
  },
  "latex_envs": {
   "LaTeX_envs_menu_present": true,
   "autoclose": false,
   "autocomplete": true,
   "bibliofile": "biblio.bib",
   "cite_by": "apalike",
   "current_citInitial": 1,
   "eqLabelWithNumbers": true,
   "eqNumInitial": 1,
   "hotkeys": {
    "equation": "Ctrl-E",
    "itemize": "Ctrl-I"
   },
   "labels_anchors": false,
   "latex_user_defs": false,
   "report_style_numbering": false,
   "user_envs_cfg": false
  }
 },
 "nbformat": 4,
 "nbformat_minor": 1
}
